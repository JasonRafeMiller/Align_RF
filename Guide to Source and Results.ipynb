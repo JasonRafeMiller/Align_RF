{
 "cells": [
  {
   "cell_type": "markdown",
   "id": "2769d569",
   "metadata": {},
   "source": [
    "# Guide to the Source and the Results"
   ]
  },
  {
   "cell_type": "markdown",
   "id": "0bd9d153",
   "metadata": {},
   "source": [
    "## Part 1. Alignments and Feature Extraction\n",
    "This process ran on Saga under the Linux O/S and the Slurm job control system.\n",
    "\n",
    "The process is described here for one experimental setup,\n",
    "specifically the one using Bowtie2 and transcripts and genus Equus.\n",
    "The other experiments used similar layouts and scripts.\n",
    "\n",
    "Many of the shell scripts include Slurm directives for resource allocation.\n",
    "The directives are formatted as comments, so they would be ignored in other environments.\n",
    "\n",
    "These scripts run as-is on any Linux O/S, \n",
    "but they would need customization to exploit other grid computing environments."
   ]
  },
  {
   "cell_type": "markdown",
   "id": "3fb630b0",
   "metadata": {},
   "source": [
    "### Data organization on disk\n",
    "* Equus\n",
    "    * Transcriptomes - two gzipped cDNA FASTA files\n",
    "    * Genomes - two gzipped gDNA FASTA files\n",
    "    * Reads - two gzipped FASTQ files, trimmed, with R1 and R2 in the filenames\n",
    "    * bowtie - align to each reference separately (for machine learning)\n",
    "        * index_asinus\n",
    "            * inputs = soft link to cDNA file\n",
    "            * outputs = index files in bt2 format\n",
    "        * index_caballus - similar\n",
    "        * map_caballus_to_caballus\n",
    "            * inputs = soft links to reads and index files\n",
    "            * outputs = aligments to transcripts, filename Sorted.bam\n",
    "        * map_caballus_to_asinus - similar\n",
    "        * map_asinus_to_asinus - similar\n",
    "        * map_asinus_to_caballus - similar\n",
    "    * diploid_bowtie - align to concatenation of references (no machine learning)\n",
    "        * map_caballus_to_diploid\n",
    "            * inputs = soft links to reads and index files\n",
    "            * outputs = alignments to transcripts, filename Primary.bam\n",
    "        * map_asinus_to_diploid - similar"
   ]
  },
  {
   "cell_type": "markdown",
   "id": "17c72b42",
   "metadata": {},
   "source": [
    "### Scripts\n",
    "See the scripts directory.\n",
    "\n",
    "Scripts to prepare for machine learning\n",
    "* bowtie_index.sh - create an index of the transcriptome\n",
    "* bowtie_best1.sh - align reads to transcripts\n",
    "* make_stats.sh - launch feature extraction on particular alignments\n",
    "* bam_two_targets.py - feature extraction, see Table 1, input BAM, output csv\n",
    "\n",
    "Scripts for comparison to the aligner by itself\n",
    "* make_diploid_fasta.sh - concatenate transcriptomes, modify deflines for counting\n",
    "* count.sh - count reads mapped to correct parent in concatenated transcriptome"
   ]
  },
  {
   "cell_type": "markdown",
   "id": "d269d612",
   "metadata": {},
   "source": [
    "## Part 2. Machine learning"
   ]
  },
  {
   "cell_type": "markdown",
   "id": "02f9dfc7",
   "metadata": {},
   "source": [
    "See the notebooks directory.\n",
    "\n",
    "The Jupyter notebooks ran on Google CoLab Pro virtual computers.\n",
    "All the RF notebooks contain two sets of statistics.\n",
    "Stats under \"Comparison\" refer to the comparison of alignment scores (columns B and E in most tables). \n",
    "Status under \"Validation\" refer to the machine learning method (columns C and F in most tables)."
   ]
  },
  {
   "cell_type": "markdown",
   "id": "7af1dd6f",
   "metadata": {},
   "source": [
    "* Columns A and D of all columns:\n",
    "    * Scores\n",
    "* Table 1 - see feature extraction above\n",
    "* Table 2 - Arabidopsis RNA\n",
    "    * RF_141 - Bowtie2\n",
    "    * RF_142 - STAR RNA\n",
    "* Table 3 - Arabidopsis DNA\n",
    "    * RF_144 - HiSat2\n",
    "    * RF_143 - STAR DNA\n",
    "* Table 4 - Brassica RNA\n",
    "    * RF_145 - Bowtie2\n",
    "    * RF_148 - STAR RNA\n",
    "* Table 5 - Brassica DNA\n",
    "    * RF_146 - HiSat2\n",
    "    * RF_151 - STAR DNA\n",
    "* Table 6 - Equus RNA\n",
    "    * RF_147 - Bowtie2\n",
    "    * RF_157 - STAR RNA\n",
    "* Table 7 - Equus DNA\n",
    "    * RF_153 - HiSat2\n",
    "    * RF_154 - STAR DNA\n",
    "* Figure 1 - no source\n",
    "* Figure 2 - Figures\n",
    "* Figure 3 - Figures\n",
    "* Table S1 - Compare architectures\n",
    "    * GB_141\n",
    "    * SVM_141b\n",
    "    * MLP_141\n",
    "* Table S2 - Compare forests\n",
    "    * RF_141a\n",
    "    * RF_141b\n",
    "* Table S3 - Mus RNA\n",
    "    * RF_149 - Bowtie2\n",
    "    * RF_158 - STAR RNA\n",
    "* Table S4 - Mus DNA\n",
    "    * RF_150 - HiSat2\n",
    "    * RF_159 - STAR DNA\n",
    "* Table S5 - no source\n",
    "* Table S6 - Equus generalization \n",
    "    * RF_147 - Primary data used to train and test\n",
    "    * RF_156 - Secondary data used for test only"
   ]
  },
  {
   "cell_type": "markdown",
   "id": "11a87281",
   "metadata": {},
   "source": [
    "## Part 3. Sample data\n",
    "See the sample_data directory.\n",
    "\n",
    "The reads and references are public data and too large to copy here.\n",
    "\n",
    "The alignment files (BAM) are easily generated and too large to copy here.\n",
    "\n",
    "The extracted feature files, in csv format, are also large and easily generated.\n",
    "\n",
    "However, subsets with 10,000 rows are provided here.\n",
    "These can be used with the appropriate RF notebook, \n",
    "just by editing the DATA_FILE in the notebook.\n",
    "We used similar files for quick initial testing of RF notebooks.\n",
    "Even though the subset data size is 1/100 of that used for the paper,\n",
    "the accuracy of models trained on the subsets was usually within\n",
    "a percentage point of the result shown in the paper."
   ]
  },
  {
   "cell_type": "code",
   "execution_count": null,
   "id": "14739815",
   "metadata": {},
   "outputs": [],
   "source": []
  }
 ],
 "metadata": {
  "kernelspec": {
   "display_name": "Python 3 (ipykernel)",
   "language": "python",
   "name": "python3"
  },
  "language_info": {
   "codemirror_mode": {
    "name": "ipython",
    "version": 3
   },
   "file_extension": ".py",
   "mimetype": "text/x-python",
   "name": "python",
   "nbconvert_exporter": "python",
   "pygments_lexer": "ipython3",
   "version": "3.10.0"
  }
 },
 "nbformat": 4,
 "nbformat_minor": 5
}
